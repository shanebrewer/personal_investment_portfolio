{
 "cells": [
  {
   "cell_type": "code",
   "execution_count": 2,
   "metadata": {},
   "outputs": [
    {
     "output_type": "stream",
     "name": "stdout",
     "text": "Loading Positions\n   Instrument       Type    Quantity\n0        AMZN      Stock      56.000\n1         SPY        ETF     125.000\n2         QQQ        ETF     178.000\n3         VTI        ETF     273.000\n4         VEA        ETF     378.000\n5         XLU        ETF      52.000\n6         XLP        ETF      52.000\n7        SPHD        ETF     100.000\n8         EEM        ETF     184.000\n9         VWO        ETF     186.000\n10        IEF        ETF      76.000\n11        TLT        ETF     198.000\n12        TIP        ETF     196.000\n13        BWX        ETF     220.000\n14        DBC        ETF    1628.000\n15        USO        ETF     161.000\n16     XAUUSD  Commodity      28.204\n17     UAGUSD  Commodity    2844.400\n18        USD   Currency  156790.850\n"
    }
   ],
   "source": [
    "import os\n",
    "import pandas as pd\n",
    "import decimal\n",
    "from equity_data_download.IEX_Data_Download import *\n",
    "from equity_data_download.Quandl_Data_Download import *\n",
    "from pathlib import Path, PurePath\n",
    "import dash\n",
    "import dash_core_components as dcc\n",
    "import dash_html_components as html\n",
    "import dash_table as dt\n",
    "\n",
    "\n",
    "# Constants\n",
    "BASE_DIRECTORY = PurePath(os.getcwd())\n",
    "DATA_DIRECTORY = BASE_DIRECTORY.parent / 'data'\n",
    "PORTFOLIO_POSITIONS_FILE = DATA_DIRECTORY / 'positions.csv'\n",
    "\n",
    "data_importer = iex_data_importer()\n",
    "\n",
    "# Load Portfolio Positions\n",
    "print(\"Loading Positions\")\n",
    "positions_df = pd.read_csv(PORTFOLIO_POSITIONS_FILE.as_posix())\n",
    "print(positions_df)\n"
   ]
  },
  {
   "cell_type": "code",
   "execution_count": 3,
   "metadata": {},
   "outputs": [
    {
     "output_type": "stream",
     "name": "stdout",
     "text": "['AMZN', 'SPY', 'QQQ', 'VTI', 'VEA', 'XLU', 'XLP', 'SPHD', 'EEM', 'VWO', 'IEF', 'TLT', 'TIP', 'BWX', 'DBC', 'USO']\n   Instrument\n0        AMZN\n1         SPY\n2         QQQ\n3         VTI\n4         VEA\n5         XLU\n6         XLP\n7        SPHD\n8         EEM\n9         VWO\n10        IEF\n11        TLT\n12        TIP\n13        BWX\n14        DBC\n15        USO\n"
    }
   ],
   "source": [
    "\n",
    "index_list = []\n",
    "for row_index, row in positions_df.iterrows():\n",
    "    if(row['Type'] == \"ETF\") or (row['Type'] == 'Stock'):\n",
    "        index_list.append(row['Instrument'])\n",
    "print(index_list)\n",
    "index_pd = pd.DataFrame(index_list, columns=['Instrument'])\n",
    "print(index_pd)"
   ]
  },
  {
   "cell_type": "code",
   "execution_count": 4,
   "metadata": {},
   "outputs": [
    {
     "output_type": "stream",
     "name": "stdout",
     "text": "Processing: AMZN\nProcessing: SPY\nProcessing: QQQ\nProcessing: VTI\nProcessing: VEA\nProcessing: XLU\nProcessing: XLP\nProcessing: SPHD\nProcessing: EEM\nProcessing: VWO\nProcessing: IEF\nProcessing: TLT\nProcessing: TIP\nProcessing: BWX\nProcessing: DBC\nProcessing: USO\n   Instrument  Last_Price\n0        AMZN     2545.02\n1         SPY      304.21\n2         QQQ      235.88\n3         VTI      153.97\n4         VEA       38.69\n5         XLU       58.67\n6         XLP       58.12\n7        SPHD       33.94\n8         EEM       39.87\n9         VWO       39.38\n10        IEF      121.39\n11        TLT      162.30\n12        TIP      121.83\n13        BWX       28.84\n14        DBC       12.01\n15        USO       26.43\n"
    }
   ],
   "source": [
    "\n",
    "instrument_price_df = pd.DataFrame(columns=['Instrument', 'Last_Price'])\n",
    "\n",
    "for row_index, row in positions_df.iterrows():\n",
    "    if(row['Type'] == \"ETF\") or (row['Type'] == 'Stock'):\n",
    "        instrument = row['Instrument']\n",
    "        last_price = data_importer.get_last_price(instrument)\n",
    "        df = {'Instrument': instrument, 'Last_Price': last_price}\n",
    "        instrument_price_df = instrument_price_df.append(df, ignore_index=True)\n",
    "\n",
    "print(instrument_price_df)"
   ]
  },
  {
   "cell_type": "code",
   "execution_count": 5,
   "metadata": {},
   "outputs": [
    {
     "output_type": "stream",
     "name": "stdout",
     "text": "{'AMZN': {'symbol': 'AMZN', 'companyName': 'Amazon.com, Inc.', 'exchange': 'NASDAQ', 'industry': 'Internet Retail', 'website': 'http://www.amazon.com', 'description': 'Amazon.com, Inc. engages in the provision of online retail shopping services. It operates through the following business segments: North America, International, and Amazon Web Services (AWS). The North America segment includes retail sales of consumer products and subscriptions through North America-focused websites such as www.amazon.com and www.amazon.ca. The International segment offers retail sales of consumer products and subscriptions through internationally-focused websites. The Amazon Web Services segment involves in the global sales of compute, storage, database, and AWS service offerings for start-ups, enterprises, government agencies, and academic institutions. The company was founded by Jeffrey P. Bezos in July 1994 and is headquartered in Seattle, WA.', 'CEO': 'Jeffrey P. Bezos', 'securityName': 'Amazon.com, Inc.', 'issueType': 'cs', 'sector': 'Retail Trade', 'primarySicCode': 5961, 'employees': 798000, 'tags': ['Retail Trade', 'Internet Retail'], 'address': '410 Terry Avenue North', 'address2': None, 'state': 'WA', 'city': 'Seattle', 'zip': '98109-5210', 'country': 'US', 'phone': '1.206.266.1000'}, 'SPY': {'symbol': 'SPY', 'companyName': 'SPDR S&P 500 ETF Trust', 'exchange': 'NYSE Arca', 'industry': 'Investment Trusts/Mutual Funds', 'website': 'http://www.spdrs.com', 'description': 'SPDR S&P 500 ETF Trust is an Exchange traded fund. The fund seeks to provide investment results that, before expenses, correspond generally to the price and yield performance of the S&P 500® Index. The S&P 500® Index is composed of five hundred selected stocks. SPDR S&P 500 ETF Trust was founded on January 22, 1993 and is headquartered in New York, NY.', 'CEO': '', 'securityName': 'SPDR S&P 500 ETF Trust', 'issueType': 'et', 'sector': 'Miscellaneous', 'primarySicCode': 6722, 'employees': None, 'tags': ['Miscellaneous', 'Investment Trusts/Mutual Funds'], 'address': '11 Wall Street', 'address2': None, 'state': 'NY', 'city': 'New York', 'zip': '10005', 'country': 'US', 'phone': '1.212.656.4440'}, 'QQQ': {'symbol': 'QQQ', 'companyName': 'Invesco QQQ Trust', 'exchange': 'NASDAQ', 'industry': 'Investment Trusts/Mutual Funds', 'website': 'http://www.invesco.com/portal/site/us/investors/etfs/product-detail?productId=QQQ', 'description': '', 'CEO': '', 'securityName': 'Invesco QQQ Trust', 'issueType': 'et', 'sector': 'Miscellaneous', 'primarySicCode': 6722, 'employees': None, 'tags': ['Miscellaneous', 'Investment Trusts/Mutual Funds'], 'address': '9513 Key West Avenue', 'address2': None, 'state': 'MD', 'city': 'Rockville', 'zip': '20850', 'country': 'US', 'phone': '1.888.627.3837'}, 'VTI': {'symbol': 'VTI', 'companyName': 'Vanguard Total Stock Market Index Fund', 'exchange': 'NYSE Arca', 'industry': 'Investment Trusts/Mutual Funds', 'website': '', 'description': '', 'CEO': '', 'securityName': 'Vanguard Total Stock Market ETF', 'issueType': 'et', 'sector': 'Miscellaneous', 'primarySicCode': 6722, 'employees': None, 'tags': ['Miscellaneous', 'Investment Trusts/Mutual Funds'], 'address': 'P.O. Box 2600', 'address2': None, 'state': 'PA', 'city': 'Valley Forge', 'zip': '19482-2600', 'country': 'US', 'phone': None}, 'VEA': {'symbol': 'VEA', 'companyName': 'Vanguard FTSE Developed Markets ETF', 'exchange': 'NYSE Arca', 'industry': 'Investment Trusts/Mutual Funds', 'website': 'http://investor.vanguard.com/etf/profile/VEA', 'description': '', 'CEO': '', 'securityName': 'Vanguard FTSE Developed Markets ETF', 'issueType': 'et', 'sector': 'Miscellaneous', 'primarySicCode': 6722, 'employees': None, 'tags': ['Miscellaneous', 'Investment Trusts/Mutual Funds'], 'address': None, 'address2': None, 'state': None, 'city': None, 'zip': None, 'country': None, 'phone': None}, 'XLU': {'symbol': 'XLU', 'companyName': 'Utilities Select Sector SPDR Fund', 'exchange': 'NYSE Arca', 'industry': 'Investment Trusts/Mutual Funds', 'website': '', 'description': '', 'CEO': '', 'securityName': 'Utilities Select Sector SPDR Fund', 'issueType': 'et', 'sector': 'Miscellaneous', 'primarySicCode': 6722, 'employees': None, 'tags': ['Miscellaneous', 'Investment Trusts/Mutual Funds'], 'address': 'State Street Financial Center', 'address2': None, 'state': 'MA', 'city': 'Boston', 'zip': '02111', 'country': 'US', 'phone': None}, 'XLP': {'symbol': 'XLP', 'companyName': 'Consumer Staples Select Sector SPDR Fund', 'exchange': 'NYSE Arca', 'industry': 'Investment Trusts/Mutual Funds', 'website': '', 'description': '', 'CEO': '', 'securityName': 'Consumer Staples Select Sector SPDR Fund', 'issueType': 'et', 'sector': 'Miscellaneous', 'primarySicCode': 6722, 'employees': None, 'tags': ['Miscellaneous', 'Investment Trusts/Mutual Funds'], 'address': '1 Lincoln Street', 'address2': None, 'state': 'MA', 'city': 'Boston', 'zip': '02111', 'country': 'US', 'phone': None}, 'SPHD': {'symbol': 'SPHD', 'companyName': 'Invesco S&P 500 High Dividend Low Volatility ETF', 'exchange': 'NYSE Arca', 'industry': 'Investment Trusts/Mutual Funds', 'website': '', 'description': '', 'CEO': '', 'securityName': 'Invesco S&P 500 High Dividend Low Volatility ETF', 'issueType': 'et', 'sector': 'Miscellaneous', 'primarySicCode': 6722, 'employees': None, 'tags': ['Miscellaneous', 'Investment Trusts/Mutual Funds'], 'address': None, 'address2': None, 'state': None, 'city': None, 'zip': None, 'country': None, 'phone': None}, 'EEM': {'symbol': 'EEM', 'companyName': 'iShares MSCI Emerging Markets ETF', 'exchange': 'NYSE Arca', 'industry': 'Investment Trusts/Mutual Funds', 'website': '', 'description': '', 'CEO': '', 'securityName': 'iShares MSCI Emerging Markets ETF', 'issueType': 'et', 'sector': 'Miscellaneous', 'primarySicCode': 6722, 'employees': None, 'tags': ['Miscellaneous', 'Investment Trusts/Mutual Funds'], 'address': '45 Fremont Street', 'address2': None, 'state': 'CA', 'city': 'San Francisco', 'zip': '94105', 'country': 'US', 'phone': '1.415.597.2000'}, 'VWO': {'symbol': 'VWO', 'companyName': 'Vanguard FTSE Emerging Markets ETF', 'exchange': 'NYSE Arca', 'industry': 'Investment Trusts/Mutual Funds', 'website': '', 'description': '', 'CEO': '', 'securityName': 'Vanguard FTSE Emerging Markets ETF', 'issueType': 'et', 'sector': 'Miscellaneous', 'primarySicCode': 6722, 'employees': None, 'tags': ['Miscellaneous', 'Investment Trusts/Mutual Funds'], 'address': 'P.O. Box 2600', 'address2': None, 'state': 'PA', 'city': 'Valley Forge', 'zip': '19482', 'country': 'US', 'phone': '1.610.669.1000'}, 'IEF': {'symbol': 'IEF', 'companyName': 'iShares 7-10 Year Treasury Bond ETF', 'exchange': 'NASDAQ', 'industry': 'Investment Trusts/Mutual Funds', 'website': '', 'description': '', 'CEO': '', 'securityName': 'iShares 7-10 Year Treasury Bond ETF', 'issueType': 'et', 'sector': 'Miscellaneous', 'primarySicCode': 6722, 'employees': None, 'tags': ['Miscellaneous', 'Investment Trusts/Mutual Funds'], 'address': '45 Fremont Street', 'address2': None, 'state': 'CA', 'city': 'San Francisco', 'zip': '94105', 'country': 'US', 'phone': '1.415.597.2000'}, 'TLT': {'symbol': 'TLT', 'companyName': 'iShares 20+ Year Treasury Bond ETF', 'exchange': 'NASDAQ', 'industry': 'Investment Trusts/Mutual Funds', 'website': '', 'description': '', 'CEO': '', 'securityName': 'iShares 20+ Year Treasury Bond ETF', 'issueType': 'et', 'sector': 'Miscellaneous', 'primarySicCode': 6722, 'employees': None, 'tags': ['Miscellaneous', 'Investment Trusts/Mutual Funds'], 'address': '45 Fremont Street', 'address2': None, 'state': 'CA', 'city': 'San Francisco', 'zip': '94105', 'country': 'US', 'phone': '1.415.597.2000'}, 'TIP': {'symbol': 'TIP', 'companyName': 'iShares TIPS Bond ETF', 'exchange': 'NYSE Arca', 'industry': 'Investment Trusts/Mutual Funds', 'website': '', 'description': '', 'CEO': '', 'securityName': 'iShares TIPS Bond ETF', 'issueType': 'et', 'sector': 'Miscellaneous', 'primarySicCode': 6722, 'employees': None, 'tags': ['Miscellaneous', 'Investment Trusts/Mutual Funds'], 'address': None, 'address2': None, 'state': None, 'city': None, 'zip': None, 'country': None, 'phone': None}, 'BWX': {'symbol': 'BWX', 'companyName': 'SPDR Bloomberg Barclays International Treasury Bond ETF', 'exchange': 'NYSE Arca', 'industry': 'Investment Trusts/Mutual Funds', 'website': '', 'description': '', 'CEO': '', 'securityName': 'SPDR Bloomberg Barclays International Treasury Bond ETF', 'issueType': 'et', 'sector': 'Miscellaneous', 'primarySicCode': 6722, 'employees': None, 'tags': ['Miscellaneous', 'Investment Trusts/Mutual Funds'], 'address': 'One Iron Street', 'address2': None, 'state': 'MA', 'city': 'Boston', 'zip': '02210', 'country': 'US', 'phone': None}, 'DBC': {'symbol': 'DBC', 'companyName': 'Invesco DB Commodity Index Tracking Fund', 'exchange': 'NYSE Arca', 'industry': 'Investment Trusts/Mutual Funds', 'website': 'http://dbcfund.db.com', 'description': '', 'CEO': 'Anna Paglia', 'securityName': 'Invesco DB Commodity Index Tracking Fund', 'issueType': 'et', 'sector': 'Miscellaneous', 'primarySicCode': 6722, 'employees': None, 'tags': ['Miscellaneous', 'Investment Trusts/Mutual Funds'], 'address': '60 Wall Street', 'address2': None, 'state': 'NY', 'city': 'New York', 'zip': '10005', 'country': 'US', 'phone': '1.212.250.5883'}, 'USO': {'symbol': 'USO', 'companyName': 'United States Oil Fund LP', 'exchange': 'NYSE Arca', 'industry': 'Investment Trusts/Mutual Funds', 'website': 'http://www.unitedstatesoilfund.com', 'description': '', 'CEO': '', 'securityName': 'United States Oil Fund LP', 'issueType': 'et', 'sector': 'Miscellaneous', 'primarySicCode': 6722, 'employees': None, 'tags': ['Miscellaneous', 'Investment Trusts/Mutual Funds'], 'address': '1625 Broadway', 'address2': None, 'state': 'CO', 'city': 'Denver', 'zip': '80202', 'country': 'US', 'phone': '1.800.820.920.0259'}}\n"
    }
   ],
   "source": [
    "\n",
    "instruments_info_dict = {}\n",
    "\n",
    "for row_index, row in positions_df.iterrows():\n",
    "    if(row['Type'] == \"ETF\") or (row['Type'] == 'Stock'):\n",
    "        instrument = row['Instrument']\n",
    "        instrument_info_dict = data_importer.get_company_info(instrument)\n",
    "        instruments_info_dict[instrument] = instrument_info_dict\n",
    "\n",
    "print(instruments_info_dict)"
   ]
  },
  {
   "cell_type": "code",
   "execution_count": 5,
   "metadata": {},
   "outputs": [
    {
     "output_type": "error",
     "ename": "NameError",
     "evalue": "name 'instrument_info_df' is not defined",
     "traceback": [
      "\u001b[0;31m---------------------------------------------------------------------------\u001b[0m",
      "\u001b[0;31mNameError\u001b[0m                                 Traceback (most recent call last)",
      "\u001b[0;32m<ipython-input-5-ea800169daa9>\u001b[0m in \u001b[0;36m<module>\u001b[0;34m\u001b[0m\n\u001b[0;32m----> 1\u001b[0;31m \u001b[0minstrument_info_df\u001b[0m\u001b[0;34m\u001b[0m\u001b[0;34m\u001b[0m\u001b[0m\n\u001b[0m",
      "\u001b[0;31mNameError\u001b[0m: name 'instrument_info_df' is not defined"
     ]
    }
   ],
   "source": [
    "\n",
    "portfolio_positions_df = positions_df\n"
   ]
  }
 ],
 "metadata": {
  "kernelspec": {
   "display_name": "Python 3.8.2 64-bit ('venv': venv)",
   "language": "python",
   "name": "python38264bitvenvvenvf9147186cf6f40db964e33207cd0ccd4"
  },
  "language_info": {
   "codemirror_mode": {
    "name": "ipython",
    "version": 3
   },
   "file_extension": ".py",
   "mimetype": "text/x-python",
   "name": "python",
   "nbconvert_exporter": "python",
   "pygments_lexer": "ipython3",
   "version": "3.8.2-final"
  }
 },
 "nbformat": 4,
 "nbformat_minor": 2
}