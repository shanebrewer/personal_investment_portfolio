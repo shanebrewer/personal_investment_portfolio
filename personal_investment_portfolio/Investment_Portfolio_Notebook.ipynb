{
 "cells": [
  {
   "source": [
    "# Load Portfolio Positions"
   ],
   "cell_type": "markdown",
   "metadata": {}
  },
  {
   "cell_type": "code",
   "execution_count": 1,
   "metadata": {},
   "outputs": [
    {
     "output_type": "stream",
     "name": "stdout",
     "text": [
      "     Instrument            Type       Quantity\n0          AMZN           Stock      78.000000\n1           SPY             ETF      89.000000\n2           QQQ             ETF     120.000000\n3           VTI             ETF     275.000000\n4            VT             ETF      49.000000\n5           VEA             ETF     379.000000\n6           EEM             ETF     187.000000\n7           VWO             ETF     389.000000\n8          MCHI             ETF     225.000000\n9           BWX             ETF     220.000000\n10          DBC             ETF    1557.000000\n11    LBMA/GOLD       Commodity      20.000000\n12  LBMA/SILVER       Commodity    2755.000000\n13          USD        Currency  156790.850000\n14      BTCUSDT  Cryptocurrency       1.253041\n15      ETHUSDT  Cryptocurrency      19.391493\n16      XRPUSDT  Cryptocurrency    3103.570000\n17      BCHUSDT  Cryptocurrency       1.771802\n18      LTCUSDT  Cryptocurrency      25.429680\n19     NANOUSDT  Cryptocurrency     149.980000\n20      DOTUSDT  Cryptocurrency      24.474000\n"
     ]
    }
   ],
   "source": [
    "import os\n",
    "import pandas as pd\n",
    "import decimal\n",
    "from instrument_data_access.IEX_dao import *\n",
    "from instrument_data_access.quandl_dao import *\n",
    "from instrument_data_access.binance_dao import *\n",
    "from pathlib import Path, PurePath\n",
    "import dash\n",
    "import dash_core_components as dcc\n",
    "import dash_html_components as html\n",
    "import dash_table as dt\n",
    "\n",
    "\n",
    "# Constants\n",
    "BASE_DIRECTORY = PurePath(os.getcwd())\n",
    "DATA_DIRECTORY = BASE_DIRECTORY.parent / 'data'\n",
    "PORTFOLIO_POSITIONS_FILE = DATA_DIRECTORY / 'positions.csv'\n",
    "\n",
    "iex_data_importer = iex_dao()\n",
    "quandl_data_importer = quandl_dao()\n",
    "binance_data_importer = binance_dao()\n",
    "\n",
    "# Load Portfolio Positions\n",
    "positions_df = pd.read_csv(PORTFOLIO_POSITIONS_FILE.as_posix())\n",
    "print(positions_df)\n"
   ]
  },
  {
   "source": [
    "# Filter Equities"
   ],
   "cell_type": "markdown",
   "metadata": {}
  },
  {
   "cell_type": "code",
   "execution_count": 2,
   "metadata": {},
   "outputs": [
    {
     "output_type": "stream",
     "name": "stdout",
     "text": [
      "['AMZN', 'SPY', 'QQQ', 'VTI', 'VT', 'VEA', 'EEM', 'VWO', 'MCHI', 'BWX', 'DBC']\n   Instrument\n0        AMZN\n1         SPY\n2         QQQ\n3         VTI\n4          VT\n5         VEA\n6         EEM\n7         VWO\n8        MCHI\n9         BWX\n10        DBC\n"
     ]
    }
   ],
   "source": [
    "\n",
    "index_list = []\n",
    "for row_index, row in positions_df.iterrows():\n",
    "    if(row['Type'] == \"ETF\") or (row['Type'] == 'Stock'):\n",
    "        index_list.append(row['Instrument'])\n",
    "print(index_list)\n",
    "index_pd = pd.DataFrame(index_list, columns=['Instrument'])\n",
    "print(index_pd)"
   ]
  },
  {
   "source": [
    "# Get Last Prices for Equities"
   ],
   "cell_type": "markdown",
   "metadata": {}
  },
  {
   "cell_type": "code",
   "execution_count": 10,
   "metadata": {},
   "outputs": [
    {
     "output_type": "stream",
     "name": "stdout",
     "text": [
      "IEX Processing: AMZN\n",
      "IEX Processing: SPY\n",
      "IEX Processing: QQQ\n",
      "IEX Processing: VTI\n",
      "IEX Processing: VT\n",
      "IEX Processing: VEA\n",
      "IEX Processing: EEM\n",
      "IEX Processing: VWO\n",
      "IEX Processing: MCHI\n",
      "IEX Processing: BWX\n",
      "IEX Processing: DBC\n",
      "Quandle Processing: LBMA/GOLD\n",
      "Quandle Processing: LBMA/SILVER\n",
      "Binance processing: BTCUSDT\n",
      "Binance processing: ETHUSDT\n",
      "Binance processing: XRPUSDT\n",
      "Binance processing: BCHUSDT\n",
      "Binance processing: LTCUSDT\n",
      "Binance processing: NANOUSDT\n",
      "Binance processing: DOTUSDT\n",
      "    Last_Price\n",
      "0    3401.4600\n",
      "1     426.6100\n",
      "2     349.4600\n",
      "3     222.5500\n",
      "4     103.9800\n",
      "5      52.2200\n",
      "6      55.5000\n",
      "7      54.5600\n",
      "8      83.0200\n",
      "9      29.4400\n",
      "10     18.9900\n",
      "11   1783.2500\n",
      "12     26.1300\n",
      "13      1.0000\n",
      "14  34330.0000\n",
      "15   1947.5200\n",
      "16      0.6410\n",
      "17    471.8600\n",
      "18    130.9400\n",
      "19      4.8326\n",
      "20     14.8260\n"
     ]
    },
    {
     "output_type": "execute_result",
     "data": {
      "text/plain": [
       "     Instrument            Type       Quantity  Last_Price\n",
       "0          AMZN           Stock      78.000000   3401.4600\n",
       "1           SPY             ETF      89.000000    426.6100\n",
       "2           QQQ             ETF     120.000000    349.4600\n",
       "3           VTI             ETF     275.000000    222.5500\n",
       "4            VT             ETF      49.000000    103.9800\n",
       "5           VEA             ETF     379.000000     52.2200\n",
       "6           EEM             ETF     187.000000     55.5000\n",
       "7           VWO             ETF     389.000000     54.5600\n",
       "8          MCHI             ETF     225.000000     83.0200\n",
       "9           BWX             ETF     220.000000     29.4400\n",
       "10          DBC             ETF    1557.000000     18.9900\n",
       "11    LBMA/GOLD       Commodity      20.000000   1783.2500\n",
       "12  LBMA/SILVER       Commodity    2755.000000     26.1300\n",
       "13          USD        Currency  156790.850000      1.0000\n",
       "14      BTCUSDT  Cryptocurrency       1.253041  34330.0000\n",
       "15      ETHUSDT  Cryptocurrency      19.391493   1947.5200\n",
       "16      XRPUSDT  Cryptocurrency    3103.570000      0.6410\n",
       "17      BCHUSDT  Cryptocurrency       1.771802    471.8600\n",
       "18      LTCUSDT  Cryptocurrency      25.429680    130.9400\n",
       "19     NANOUSDT  Cryptocurrency     149.980000      4.8326\n",
       "20      DOTUSDT  Cryptocurrency      24.474000     14.8260"
      ],
      "text/html": "<div>\n<style scoped>\n    .dataframe tbody tr th:only-of-type {\n        vertical-align: middle;\n    }\n\n    .dataframe tbody tr th {\n        vertical-align: top;\n    }\n\n    .dataframe thead th {\n        text-align: right;\n    }\n</style>\n<table border=\"1\" class=\"dataframe\">\n  <thead>\n    <tr style=\"text-align: right;\">\n      <th></th>\n      <th>Instrument</th>\n      <th>Type</th>\n      <th>Quantity</th>\n      <th>Last_Price</th>\n    </tr>\n  </thead>\n  <tbody>\n    <tr>\n      <th>0</th>\n      <td>AMZN</td>\n      <td>Stock</td>\n      <td>78.000000</td>\n      <td>3401.4600</td>\n    </tr>\n    <tr>\n      <th>1</th>\n      <td>SPY</td>\n      <td>ETF</td>\n      <td>89.000000</td>\n      <td>426.6100</td>\n    </tr>\n    <tr>\n      <th>2</th>\n      <td>QQQ</td>\n      <td>ETF</td>\n      <td>120.000000</td>\n      <td>349.4600</td>\n    </tr>\n    <tr>\n      <th>3</th>\n      <td>VTI</td>\n      <td>ETF</td>\n      <td>275.000000</td>\n      <td>222.5500</td>\n    </tr>\n    <tr>\n      <th>4</th>\n      <td>VT</td>\n      <td>ETF</td>\n      <td>49.000000</td>\n      <td>103.9800</td>\n    </tr>\n    <tr>\n      <th>5</th>\n      <td>VEA</td>\n      <td>ETF</td>\n      <td>379.000000</td>\n      <td>52.2200</td>\n    </tr>\n    <tr>\n      <th>6</th>\n      <td>EEM</td>\n      <td>ETF</td>\n      <td>187.000000</td>\n      <td>55.5000</td>\n    </tr>\n    <tr>\n      <th>7</th>\n      <td>VWO</td>\n      <td>ETF</td>\n      <td>389.000000</td>\n      <td>54.5600</td>\n    </tr>\n    <tr>\n      <th>8</th>\n      <td>MCHI</td>\n      <td>ETF</td>\n      <td>225.000000</td>\n      <td>83.0200</td>\n    </tr>\n    <tr>\n      <th>9</th>\n      <td>BWX</td>\n      <td>ETF</td>\n      <td>220.000000</td>\n      <td>29.4400</td>\n    </tr>\n    <tr>\n      <th>10</th>\n      <td>DBC</td>\n      <td>ETF</td>\n      <td>1557.000000</td>\n      <td>18.9900</td>\n    </tr>\n    <tr>\n      <th>11</th>\n      <td>LBMA/GOLD</td>\n      <td>Commodity</td>\n      <td>20.000000</td>\n      <td>1783.2500</td>\n    </tr>\n    <tr>\n      <th>12</th>\n      <td>LBMA/SILVER</td>\n      <td>Commodity</td>\n      <td>2755.000000</td>\n      <td>26.1300</td>\n    </tr>\n    <tr>\n      <th>13</th>\n      <td>USD</td>\n      <td>Currency</td>\n      <td>156790.850000</td>\n      <td>1.0000</td>\n    </tr>\n    <tr>\n      <th>14</th>\n      <td>BTCUSDT</td>\n      <td>Cryptocurrency</td>\n      <td>1.253041</td>\n      <td>34330.0000</td>\n    </tr>\n    <tr>\n      <th>15</th>\n      <td>ETHUSDT</td>\n      <td>Cryptocurrency</td>\n      <td>19.391493</td>\n      <td>1947.5200</td>\n    </tr>\n    <tr>\n      <th>16</th>\n      <td>XRPUSDT</td>\n      <td>Cryptocurrency</td>\n      <td>3103.570000</td>\n      <td>0.6410</td>\n    </tr>\n    <tr>\n      <th>17</th>\n      <td>BCHUSDT</td>\n      <td>Cryptocurrency</td>\n      <td>1.771802</td>\n      <td>471.8600</td>\n    </tr>\n    <tr>\n      <th>18</th>\n      <td>LTCUSDT</td>\n      <td>Cryptocurrency</td>\n      <td>25.429680</td>\n      <td>130.9400</td>\n    </tr>\n    <tr>\n      <th>19</th>\n      <td>NANOUSDT</td>\n      <td>Cryptocurrency</td>\n      <td>149.980000</td>\n      <td>4.8326</td>\n    </tr>\n    <tr>\n      <th>20</th>\n      <td>DOTUSDT</td>\n      <td>Cryptocurrency</td>\n      <td>24.474000</td>\n      <td>14.8260</td>\n    </tr>\n  </tbody>\n</table>\n</div>"
     },
     "metadata": {},
     "execution_count": 10
    }
   ],
   "source": [
    "last_price_df = pd.DataFrame()\n",
    "\n",
    "for row_index, row in positions_df.iterrows():\n",
    "    if(row['Type'] == \"ETF\") or (row['Type'] == 'Stock'):\n",
    "        last_price = float(iex_data_importer.get_last_price(row['Instrument']).iloc[0,0])\n",
    "        df = {'Last_Price': last_price}\n",
    "        last_price_df = last_price_df.append(df, ignore_index=True)\n",
    "    elif (row['Type'] == \"Commodity\"):\n",
    "        last_price = float(quandl_data_importer.get_latest_instrument_price(row['Instrument']).iloc[0,0])\n",
    "        df = {'Last_Price': last_price}\n",
    "        last_price_df = last_price_df.append(df, ignore_index=True)\n",
    "    elif (row['Type'] == \"Cryptocurrency\"):\n",
    "        last_price = float(binance_data_importer.get_last_price(row['Instrument']))\n",
    "        df = {'Last_Price': last_price}\n",
    "        last_price_df = last_price_df.append(df, ignore_index=True)\n",
    "    elif (row['Type'] == \"Currency\"):\n",
    "        df = {'Last_Price': 1.0}\n",
    "        last_price_df = last_price_df.append(df, ignore_index=True)\n",
    "# TODO: Add an index and merge data frames together\n",
    "print(last_price_df)\n",
    "\n",
    "positions_df = positions_df.assign(Last_Price=last_price_df)\n",
    "positions_df"
   ]
  },
  {
   "source": [
    "# Calculate Total Assets"
   ],
   "cell_type": "markdown",
   "metadata": {}
  },
  {
   "cell_type": "code",
   "execution_count": 11,
   "metadata": {},
   "outputs": [
    {
     "output_type": "execute_result",
     "data": {
      "text/plain": [
       "     Instrument            Type       Quantity  Last_Price Total_Assets\n",
       "0          AMZN           Stock      78.000000   $3,401.46  $265,313.88\n",
       "1           SPY             ETF      89.000000     $426.61   $37,968.29\n",
       "2           QQQ             ETF     120.000000     $349.46   $41,935.20\n",
       "3           VTI             ETF     275.000000     $222.55   $61,201.25\n",
       "4            VT             ETF      49.000000     $103.98    $5,095.02\n",
       "5           VEA             ETF     379.000000      $52.22   $19,791.38\n",
       "6           EEM             ETF     187.000000      $55.50   $10,378.50\n",
       "7           VWO             ETF     389.000000      $54.56   $21,223.84\n",
       "8          MCHI             ETF     225.000000      $83.02   $18,679.50\n",
       "9           BWX             ETF     220.000000      $29.44    $6,476.80\n",
       "10          DBC             ETF    1557.000000      $18.99   $29,567.43\n",
       "11    LBMA/GOLD       Commodity      20.000000   $1,783.25   $35,665.00\n",
       "12  LBMA/SILVER       Commodity    2755.000000      $26.13   $71,988.15\n",
       "13          USD        Currency  156790.850000       $1.00  $156,790.00\n",
       "14      BTCUSDT  Cryptocurrency       1.253041  $34,330.00   $34,330.00\n",
       "15      ETHUSDT  Cryptocurrency      19.391493   $1,947.52   $37,002.88\n",
       "16      XRPUSDT  Cryptocurrency    3103.570000       $0.64    $1,989.02\n",
       "17      BCHUSDT  Cryptocurrency       1.771802     $471.86      $471.86\n",
       "18      LTCUSDT  Cryptocurrency      25.429680     $130.94    $3,273.50\n",
       "19     NANOUSDT  Cryptocurrency     149.980000       $4.83      $720.06\n",
       "20      DOTUSDT  Cryptocurrency      24.474000      $14.83      $355.82"
      ],
      "text/html": "<div>\n<style scoped>\n    .dataframe tbody tr th:only-of-type {\n        vertical-align: middle;\n    }\n\n    .dataframe tbody tr th {\n        vertical-align: top;\n    }\n\n    .dataframe thead th {\n        text-align: right;\n    }\n</style>\n<table border=\"1\" class=\"dataframe\">\n  <thead>\n    <tr style=\"text-align: right;\">\n      <th></th>\n      <th>Instrument</th>\n      <th>Type</th>\n      <th>Quantity</th>\n      <th>Last_Price</th>\n      <th>Total_Assets</th>\n    </tr>\n  </thead>\n  <tbody>\n    <tr>\n      <th>0</th>\n      <td>AMZN</td>\n      <td>Stock</td>\n      <td>78.000000</td>\n      <td>$3,401.46</td>\n      <td>$265,313.88</td>\n    </tr>\n    <tr>\n      <th>1</th>\n      <td>SPY</td>\n      <td>ETF</td>\n      <td>89.000000</td>\n      <td>$426.61</td>\n      <td>$37,968.29</td>\n    </tr>\n    <tr>\n      <th>2</th>\n      <td>QQQ</td>\n      <td>ETF</td>\n      <td>120.000000</td>\n      <td>$349.46</td>\n      <td>$41,935.20</td>\n    </tr>\n    <tr>\n      <th>3</th>\n      <td>VTI</td>\n      <td>ETF</td>\n      <td>275.000000</td>\n      <td>$222.55</td>\n      <td>$61,201.25</td>\n    </tr>\n    <tr>\n      <th>4</th>\n      <td>VT</td>\n      <td>ETF</td>\n      <td>49.000000</td>\n      <td>$103.98</td>\n      <td>$5,095.02</td>\n    </tr>\n    <tr>\n      <th>5</th>\n      <td>VEA</td>\n      <td>ETF</td>\n      <td>379.000000</td>\n      <td>$52.22</td>\n      <td>$19,791.38</td>\n    </tr>\n    <tr>\n      <th>6</th>\n      <td>EEM</td>\n      <td>ETF</td>\n      <td>187.000000</td>\n      <td>$55.50</td>\n      <td>$10,378.50</td>\n    </tr>\n    <tr>\n      <th>7</th>\n      <td>VWO</td>\n      <td>ETF</td>\n      <td>389.000000</td>\n      <td>$54.56</td>\n      <td>$21,223.84</td>\n    </tr>\n    <tr>\n      <th>8</th>\n      <td>MCHI</td>\n      <td>ETF</td>\n      <td>225.000000</td>\n      <td>$83.02</td>\n      <td>$18,679.50</td>\n    </tr>\n    <tr>\n      <th>9</th>\n      <td>BWX</td>\n      <td>ETF</td>\n      <td>220.000000</td>\n      <td>$29.44</td>\n      <td>$6,476.80</td>\n    </tr>\n    <tr>\n      <th>10</th>\n      <td>DBC</td>\n      <td>ETF</td>\n      <td>1557.000000</td>\n      <td>$18.99</td>\n      <td>$29,567.43</td>\n    </tr>\n    <tr>\n      <th>11</th>\n      <td>LBMA/GOLD</td>\n      <td>Commodity</td>\n      <td>20.000000</td>\n      <td>$1,783.25</td>\n      <td>$35,665.00</td>\n    </tr>\n    <tr>\n      <th>12</th>\n      <td>LBMA/SILVER</td>\n      <td>Commodity</td>\n      <td>2755.000000</td>\n      <td>$26.13</td>\n      <td>$71,988.15</td>\n    </tr>\n    <tr>\n      <th>13</th>\n      <td>USD</td>\n      <td>Currency</td>\n      <td>156790.850000</td>\n      <td>$1.00</td>\n      <td>$156,790.00</td>\n    </tr>\n    <tr>\n      <th>14</th>\n      <td>BTCUSDT</td>\n      <td>Cryptocurrency</td>\n      <td>1.253041</td>\n      <td>$34,330.00</td>\n      <td>$34,330.00</td>\n    </tr>\n    <tr>\n      <th>15</th>\n      <td>ETHUSDT</td>\n      <td>Cryptocurrency</td>\n      <td>19.391493</td>\n      <td>$1,947.52</td>\n      <td>$37,002.88</td>\n    </tr>\n    <tr>\n      <th>16</th>\n      <td>XRPUSDT</td>\n      <td>Cryptocurrency</td>\n      <td>3103.570000</td>\n      <td>$0.64</td>\n      <td>$1,989.02</td>\n    </tr>\n    <tr>\n      <th>17</th>\n      <td>BCHUSDT</td>\n      <td>Cryptocurrency</td>\n      <td>1.771802</td>\n      <td>$471.86</td>\n      <td>$471.86</td>\n    </tr>\n    <tr>\n      <th>18</th>\n      <td>LTCUSDT</td>\n      <td>Cryptocurrency</td>\n      <td>25.429680</td>\n      <td>$130.94</td>\n      <td>$3,273.50</td>\n    </tr>\n    <tr>\n      <th>19</th>\n      <td>NANOUSDT</td>\n      <td>Cryptocurrency</td>\n      <td>149.980000</td>\n      <td>$4.83</td>\n      <td>$720.06</td>\n    </tr>\n    <tr>\n      <th>20</th>\n      <td>DOTUSDT</td>\n      <td>Cryptocurrency</td>\n      <td>24.474000</td>\n      <td>$14.83</td>\n      <td>$355.82</td>\n    </tr>\n  </tbody>\n</table>\n</div>"
     },
     "metadata": {},
     "execution_count": 11
    }
   ],
   "source": [
    "\n",
    "def currency_format(x):\n",
    "    return \"${0:,.2f}\".format(x)\n",
    "\n",
    "positions_df['Total_Assets'] = positions_df['Quantity'].astype(int) * positions_df['Last_Price'].astype(float)\n",
    "positions_df['Total_Assets'] = positions_df['Total_Assets'].apply(currency_format)\n",
    "positions_df['Last_Price'] = positions_df['Last_Price'].astype(float).apply(currency_format)\n",
    "positions_df\n"
   ]
  },
  {
   "source": [
    "# Calculate Total Liquid Net Worth"
   ],
   "cell_type": "markdown",
   "metadata": {}
  },
  {
   "cell_type": "code",
   "execution_count": 16,
   "metadata": {},
   "outputs": [
    {
     "output_type": "stream",
     "name": "stdout",
     "text": [
      "$860,217.38\n"
     ]
    }
   ],
   "source": [
    "total_liquid_net_worth = (positions_df['Total_Assets'].replace('[\\$,)]','', regex=True)\n",
    "                            .replace('[(]','-', regex=True).astype(float)).sum()\n",
    "print('${:,.2f}'.format(total_liquid_net_worth))"
   ]
  },
  {
   "cell_type": "code",
   "execution_count": 5,
   "metadata": {},
   "outputs": [
    {
     "output_type": "stream",
     "name": "stdout",
     "text": "{'AMZN': {'symbol': 'AMZN', 'companyName': 'Amazon.com, Inc.', 'exchange': 'NASDAQ', 'industry': 'Internet Retail', 'website': 'http://www.amazon.com', 'description': 'Amazon.com, Inc. engages in the provision of online retail shopping services. It operates through the following business segments: North America, International, and Amazon Web Services (AWS). The North America segment includes retail sales of consumer products and subscriptions through North America-focused websites such as www.amazon.com and www.amazon.ca. The International segment offers retail sales of consumer products and subscriptions through internationally-focused websites. The Amazon Web Services segment involves in the global sales of compute, storage, database, and AWS service offerings for start-ups, enterprises, government agencies, and academic institutions. The company was founded by Jeffrey P. Bezos in July 1994 and is headquartered in Seattle, WA.', 'CEO': 'Jeffrey P. Bezos', 'securityName': 'Amazon.com, Inc.', 'issueType': 'cs', 'sector': 'Retail Trade', 'primarySicCode': 5961, 'employees': 798000, 'tags': ['Retail Trade', 'Internet Retail'], 'address': '410 Terry Avenue North', 'address2': None, 'state': 'WA', 'city': 'Seattle', 'zip': '98109-5210', 'country': 'US', 'phone': '1.206.266.1000'}, 'SPY': {'symbol': 'SPY', 'companyName': 'SPDR S&P 500 ETF Trust', 'exchange': 'NYSE Arca', 'industry': 'Investment Trusts/Mutual Funds', 'website': 'http://www.spdrs.com', 'description': 'SPDR S&P 500 ETF Trust is an Exchange traded fund. The fund seeks to provide investment results that, before expenses, correspond generally to the price and yield performance of the S&P 500® Index. The S&P 500® Index is composed of five hundred selected stocks. SPDR S&P 500 ETF Trust was founded on January 22, 1993 and is headquartered in New York, NY.', 'CEO': '', 'securityName': 'SPDR S&P 500 ETF Trust', 'issueType': 'et', 'sector': 'Miscellaneous', 'primarySicCode': 6722, 'employees': None, 'tags': ['Miscellaneous', 'Investment Trusts/Mutual Funds'], 'address': '11 Wall Street', 'address2': None, 'state': 'NY', 'city': 'New York', 'zip': '10005', 'country': 'US', 'phone': '1.212.656.4440'}, 'QQQ': {'symbol': 'QQQ', 'companyName': 'Invesco QQQ Trust', 'exchange': 'NASDAQ', 'industry': 'Investment Trusts/Mutual Funds', 'website': 'http://www.invesco.com/portal/site/us/investors/etfs/product-detail?productId=QQQ', 'description': '', 'CEO': '', 'securityName': 'Invesco QQQ Trust', 'issueType': 'et', 'sector': 'Miscellaneous', 'primarySicCode': 6722, 'employees': None, 'tags': ['Miscellaneous', 'Investment Trusts/Mutual Funds'], 'address': '9513 Key West Avenue', 'address2': None, 'state': 'MD', 'city': 'Rockville', 'zip': '20850', 'country': 'US', 'phone': '1.888.627.3837'}, 'VTI': {'symbol': 'VTI', 'companyName': 'Vanguard Total Stock Market Index Fund', 'exchange': 'NYSE Arca', 'industry': 'Investment Trusts/Mutual Funds', 'website': '', 'description': '', 'CEO': '', 'securityName': 'Vanguard Total Stock Market ETF', 'issueType': 'et', 'sector': 'Miscellaneous', 'primarySicCode': 6722, 'employees': None, 'tags': ['Miscellaneous', 'Investment Trusts/Mutual Funds'], 'address': 'P.O. Box 2600', 'address2': None, 'state': 'PA', 'city': 'Valley Forge', 'zip': '19482-2600', 'country': 'US', 'phone': None}, 'VEA': {'symbol': 'VEA', 'companyName': 'Vanguard FTSE Developed Markets ETF', 'exchange': 'NYSE Arca', 'industry': 'Investment Trusts/Mutual Funds', 'website': 'http://investor.vanguard.com/etf/profile/VEA', 'description': '', 'CEO': '', 'securityName': 'Vanguard FTSE Developed Markets ETF', 'issueType': 'et', 'sector': 'Miscellaneous', 'primarySicCode': 6722, 'employees': None, 'tags': ['Miscellaneous', 'Investment Trusts/Mutual Funds'], 'address': None, 'address2': None, 'state': None, 'city': None, 'zip': None, 'country': None, 'phone': None}, 'XLU': {'symbol': 'XLU', 'companyName': 'Utilities Select Sector SPDR Fund', 'exchange': 'NYSE Arca', 'industry': 'Investment Trusts/Mutual Funds', 'website': '', 'description': '', 'CEO': '', 'securityName': 'Utilities Select Sector SPDR Fund', 'issueType': 'et', 'sector': 'Miscellaneous', 'primarySicCode': 6722, 'employees': None, 'tags': ['Miscellaneous', 'Investment Trusts/Mutual Funds'], 'address': 'State Street Financial Center', 'address2': None, 'state': 'MA', 'city': 'Boston', 'zip': '02111', 'country': 'US', 'phone': None}, 'XLP': {'symbol': 'XLP', 'companyName': 'Consumer Staples Select Sector SPDR Fund', 'exchange': 'NYSE Arca', 'industry': 'Investment Trusts/Mutual Funds', 'website': '', 'description': '', 'CEO': '', 'securityName': 'Consumer Staples Select Sector SPDR Fund', 'issueType': 'et', 'sector': 'Miscellaneous', 'primarySicCode': 6722, 'employees': None, 'tags': ['Miscellaneous', 'Investment Trusts/Mutual Funds'], 'address': '1 Lincoln Street', 'address2': None, 'state': 'MA', 'city': 'Boston', 'zip': '02111', 'country': 'US', 'phone': None}, 'SPHD': {'symbol': 'SPHD', 'companyName': 'Invesco S&P 500 High Dividend Low Volatility ETF', 'exchange': 'NYSE Arca', 'industry': 'Investment Trusts/Mutual Funds', 'website': '', 'description': '', 'CEO': '', 'securityName': 'Invesco S&P 500 High Dividend Low Volatility ETF', 'issueType': 'et', 'sector': 'Miscellaneous', 'primarySicCode': 6722, 'employees': None, 'tags': ['Miscellaneous', 'Investment Trusts/Mutual Funds'], 'address': None, 'address2': None, 'state': None, 'city': None, 'zip': None, 'country': None, 'phone': None}, 'EEM': {'symbol': 'EEM', 'companyName': 'iShares MSCI Emerging Markets ETF', 'exchange': 'NYSE Arca', 'industry': 'Investment Trusts/Mutual Funds', 'website': '', 'description': '', 'CEO': '', 'securityName': 'iShares MSCI Emerging Markets ETF', 'issueType': 'et', 'sector': 'Miscellaneous', 'primarySicCode': 6722, 'employees': None, 'tags': ['Miscellaneous', 'Investment Trusts/Mutual Funds'], 'address': '45 Fremont Street', 'address2': None, 'state': 'CA', 'city': 'San Francisco', 'zip': '94105', 'country': 'US', 'phone': '1.415.597.2000'}, 'VWO': {'symbol': 'VWO', 'companyName': 'Vanguard FTSE Emerging Markets ETF', 'exchange': 'NYSE Arca', 'industry': 'Investment Trusts/Mutual Funds', 'website': '', 'description': '', 'CEO': '', 'securityName': 'Vanguard FTSE Emerging Markets ETF', 'issueType': 'et', 'sector': 'Miscellaneous', 'primarySicCode': 6722, 'employees': None, 'tags': ['Miscellaneous', 'Investment Trusts/Mutual Funds'], 'address': 'P.O. Box 2600', 'address2': None, 'state': 'PA', 'city': 'Valley Forge', 'zip': '19482', 'country': 'US', 'phone': '1.610.669.1000'}, 'IEF': {'symbol': 'IEF', 'companyName': 'iShares 7-10 Year Treasury Bond ETF', 'exchange': 'NASDAQ', 'industry': 'Investment Trusts/Mutual Funds', 'website': '', 'description': '', 'CEO': '', 'securityName': 'iShares 7-10 Year Treasury Bond ETF', 'issueType': 'et', 'sector': 'Miscellaneous', 'primarySicCode': 6722, 'employees': None, 'tags': ['Miscellaneous', 'Investment Trusts/Mutual Funds'], 'address': '45 Fremont Street', 'address2': None, 'state': 'CA', 'city': 'San Francisco', 'zip': '94105', 'country': 'US', 'phone': '1.415.597.2000'}, 'TLT': {'symbol': 'TLT', 'companyName': 'iShares 20+ Year Treasury Bond ETF', 'exchange': 'NASDAQ', 'industry': 'Investment Trusts/Mutual Funds', 'website': '', 'description': '', 'CEO': '', 'securityName': 'iShares 20+ Year Treasury Bond ETF', 'issueType': 'et', 'sector': 'Miscellaneous', 'primarySicCode': 6722, 'employees': None, 'tags': ['Miscellaneous', 'Investment Trusts/Mutual Funds'], 'address': '45 Fremont Street', 'address2': None, 'state': 'CA', 'city': 'San Francisco', 'zip': '94105', 'country': 'US', 'phone': '1.415.597.2000'}, 'TIP': {'symbol': 'TIP', 'companyName': 'iShares TIPS Bond ETF', 'exchange': 'NYSE Arca', 'industry': 'Investment Trusts/Mutual Funds', 'website': '', 'description': '', 'CEO': '', 'securityName': 'iShares TIPS Bond ETF', 'issueType': 'et', 'sector': 'Miscellaneous', 'primarySicCode': 6722, 'employees': None, 'tags': ['Miscellaneous', 'Investment Trusts/Mutual Funds'], 'address': None, 'address2': None, 'state': None, 'city': None, 'zip': None, 'country': None, 'phone': None}, 'BWX': {'symbol': 'BWX', 'companyName': 'SPDR Bloomberg Barclays International Treasury Bond ETF', 'exchange': 'NYSE Arca', 'industry': 'Investment Trusts/Mutual Funds', 'website': '', 'description': '', 'CEO': '', 'securityName': 'SPDR Bloomberg Barclays International Treasury Bond ETF', 'issueType': 'et', 'sector': 'Miscellaneous', 'primarySicCode': 6722, 'employees': None, 'tags': ['Miscellaneous', 'Investment Trusts/Mutual Funds'], 'address': 'One Iron Street', 'address2': None, 'state': 'MA', 'city': 'Boston', 'zip': '02210', 'country': 'US', 'phone': None}, 'DBC': {'symbol': 'DBC', 'companyName': 'Invesco DB Commodity Index Tracking Fund', 'exchange': 'NYSE Arca', 'industry': 'Investment Trusts/Mutual Funds', 'website': 'http://dbcfund.db.com', 'description': '', 'CEO': 'Anna Paglia', 'securityName': 'Invesco DB Commodity Index Tracking Fund', 'issueType': 'et', 'sector': 'Miscellaneous', 'primarySicCode': 6722, 'employees': None, 'tags': ['Miscellaneous', 'Investment Trusts/Mutual Funds'], 'address': '60 Wall Street', 'address2': None, 'state': 'NY', 'city': 'New York', 'zip': '10005', 'country': 'US', 'phone': '1.212.250.5883'}, 'USO': {'symbol': 'USO', 'companyName': 'United States Oil Fund LP', 'exchange': 'NYSE Arca', 'industry': 'Investment Trusts/Mutual Funds', 'website': 'http://www.unitedstatesoilfund.com', 'description': '', 'CEO': '', 'securityName': 'United States Oil Fund LP', 'issueType': 'et', 'sector': 'Miscellaneous', 'primarySicCode': 6722, 'employees': None, 'tags': ['Miscellaneous', 'Investment Trusts/Mutual Funds'], 'address': '1625 Broadway', 'address2': None, 'state': 'CO', 'city': 'Denver', 'zip': '80202', 'country': 'US', 'phone': '1.800.820.920.0259'}}\n"
    }
   ],
   "source": [
    "\n",
    "instruments_info_dict = {}\n",
    "\n",
    "for row_index, row in positions_df.iterrows():\n",
    "    if (row['Type'] == \"ETF\") or (row['Type'] == 'Stock'):\n",
    "        instrument = row['Instrument']\n",
    "        instrument_info_dict = iex_data_importer.get_company_info(instrument)\n",
    "        instruments_info_dict[instrument] = instrument_info_dict\n",
    "    \n",
    "\n",
    "\n",
    "print(instruments_info_dict)"
   ]
  }
 ],
 "metadata": {
  "kernelspec": {
   "name": "python3",
   "display_name": "Python 3.8.5 64-bit ('.venv': venv)"
  },
  "language_info": {
   "codemirror_mode": {
    "name": "ipython",
    "version": 3
   },
   "file_extension": ".py",
   "mimetype": "text/x-python",
   "name": "python",
   "nbconvert_exporter": "python",
   "pygments_lexer": "ipython3",
   "version": "3.8.5"
  },
  "interpreter": {
   "hash": "655a5b6b9b327d2ebda8fc0774986873e7ac90a04d43795067abc8402cdac99c"
  }
 },
 "nbformat": 4,
 "nbformat_minor": 2
}